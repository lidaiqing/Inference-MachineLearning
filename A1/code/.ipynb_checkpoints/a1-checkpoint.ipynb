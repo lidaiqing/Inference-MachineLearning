{
 "cells": [
  {
   "cell_type": "code",
   "execution_count": 4,
   "metadata": {
    "collapsed": false
   },
   "outputs": [],
   "source": [
    "import tensorflow as tf\n",
    "import matplotlib.pyplot as plt\n",
    "import numpy as np"
   ]
  },
  {
   "cell_type": "code",
   "execution_count": 5,
   "metadata": {
    "collapsed": false
   },
   "outputs": [],
   "source": [
    "np.random.seed(521)\n",
    "Data = np.linspace(1.0 , 10.0 , num =100) [:, np. newaxis]\n",
    "Target = np.sin( Data ) + 0.1 * np.power( Data , 2) \\\n",
    "+ 0.5 * np.random.randn(100 , 1)\n",
    "randIdx = np.arange(100)\n",
    "np.random.shuffle(randIdx)\n",
    "trainData, trainTarget = Data[randIdx[:80]], Target[randIdx[:80]]\n",
    "validData, validTarget = Data[randIdx[80:90]], Target[randIdx[80:90]]\n",
    "testData, testTarget = Data[randIdx[90:100]], Target[randIdx[90:100]]"
   ]
  },
  {
   "cell_type": "code",
   "execution_count": 419,
   "metadata": {
    "collapsed": false
   },
   "outputs": [
    {
     "data": {
      "image/png": "[encoded data removed]",
      "text/plain": [
       "<matplotlib.figure.Figure at 0x7ff7ab713588>"
      ]
     },
     "metadata": {},
     "output_type": "display_data"
    }
   ],
   "source": [
    "#plot of trainData\n",
    "plt.plot(trainData, trainTarget, 'bo')\n",
    "plt.axis([0,11, -2, 12])\n",
    "plt.title(\"raw train data set\")\n",
    "plt.show()"
   ]
  },
  {
   "cell_type": "code",
   "execution_count": 450,
   "metadata": {
    "collapsed": true
   },
   "outputs": [],
   "source": [
    "def pairwise_dist(x, z):\n",
    "    z = tf.transpose(z)\n",
    "    return tf.squared_difference(x, z)"
   ]
  },
  {
   "cell_type": "code",
   "execution_count": 8,
   "metadata": {
    "collapsed": false
   },
   "outputs": [
    {
     "name": "stdout",
     "output_type": "stream",
     "text": [
      "[[0 1 4]\n",
      " [1 0 1]\n",
      " [4 1 0]\n",
      " [9 4 1]]\n"
     ]
    }
   ],
   "source": [
    "#testing pairwise_dist function\n",
    "x = tf.constant([[1],[2],[3],[4]])\n",
    "z = tf.constant([[1],[2],[3]])\n",
    "init = tf.global_variables_initializer()\n",
    "sess = tf.InteractiveSession()\n",
    "sess.run(init)\n",
    "print(sess.run(pairwise_dist(x,z)))"
   ]
  },
  {
   "cell_type": "code",
   "execution_count": 519,
   "metadata": {
    "collapsed": false
   },
   "outputs": [],
   "source": [
    "def get_respon_mat(m, k):\n",
    "    m = tf.transpose(m)\n",
    "    values, indices = tf.nn.top_k(-m, k, sorted=True)\n",
    "    values, sorted_indices = tf.nn.top_k(-sorted_indices, k, sorted=True)\n",
    "    value = 1 / k\n",
    "    res = tf.sparse_to_dense(sparse_indices=indices, output_shape=[m.shape[0]], sparse_values=value)   \n",
    "    return res"
   ]
  },
  {
   "cell_type": "code",
   "execution_count": 416,
   "metadata": {
    "collapsed": false
   },
   "outputs": [
    {
     "data": {
      "text/plain": [
       "array([ 0.        ,  0.2       ,  0.        ,  0.        ,  0.        ,\n",
       "        1.        ,  0.        ,  0.        ,  0.        ,  0.        ,\n",
       "        0.        ,  0.        ,  0.        ,  0.        ,  0.        ,\n",
       "        0.        ,  0.        ,  0.25      ,  0.        ,  0.        ,\n",
       "        0.        ,  0.        ,  0.33333334,  0.        ,  0.        ,\n",
       "        0.        ,  0.        ,  0.        ,  0.        ,  0.        ,\n",
       "        0.        ,  0.        ,  0.        ,  0.        ,  0.        ,\n",
       "        0.        ,  0.        ,  0.        ,  0.        ,  0.        ,\n",
       "        0.        ,  0.        ,  0.        ,  0.        ,  0.        ,\n",
       "        0.        ,  0.        ,  0.        ,  0.        ,  0.        ,\n",
       "        0.        ,  0.        ,  0.        ,  0.        ,  0.        ,\n",
       "        0.        ,  0.        ,  0.        ,  0.        ,  0.        ,\n",
       "        0.        ,  0.        ,  0.5       ,  0.        ,  0.        ,\n",
       "        0.        ,  0.        ,  0.        ,  0.        ,  0.        ,\n",
       "        0.        ,  0.        ,  0.        ,  0.        ,  0.        ,\n",
       "        0.        ,  0.        ,  0.        ,  0.        ,  0.        ], dtype=float32)"
      ]
     },
     "execution_count": 416,
     "metadata": {},
     "output_type": "execute_result"
    }
   ],
   "source": [
    "r = get_respon_mat(trainData, 5)\n",
    "sess.run(init)\n",
    "sess.run(r)"
   ]
  },
  {
   "cell_type": "code",
   "execution_count": 123,
   "metadata": {
    "collapsed": false
   },
   "outputs": [
    {
     "name": "stdout",
     "output_type": "stream",
     "text": [
      "(80, 1)\n"
     ]
    }
   ],
   "source": [
    "# train model\n",
    "kList = [1,3,5,50]\n",
    "for k in kList:\n",
    "    r = get_respon_mat(trainData, k)\n",
    "    "
   ]
  },
  {
   "cell_type": "code",
   "execution_count": 476,
   "metadata": {
    "collapsed": false
   },
   "outputs": [
    {
     "ename": "AttributeError",
     "evalue": "'Tensor' object has no attribute 'shape'",
     "output_type": "error",
     "traceback": [
      "\u001b[0;31m---------------------------------------------------------------------------\u001b[0m",
      "\u001b[0;31mAttributeError\u001b[0m                            Traceback (most recent call last)",
      "\u001b[0;32m<ipython-input-476-85ff8f216724>\u001b[0m in \u001b[0;36m<module>\u001b[0;34m()\u001b[0m\n\u001b[0;32m----> 1\u001b[0;31m \u001b[0mr\u001b[0m \u001b[0;34m=\u001b[0m \u001b[0mget_respon_mat\u001b[0m\u001b[0;34m(\u001b[0m\u001b[0mpairwise_dist\u001b[0m\u001b[0;34m(\u001b[0m\u001b[0mtf\u001b[0m\u001b[0;34m.\u001b[0m\u001b[0mconvert_to_tensor\u001b[0m\u001b[0;34m(\u001b[0m\u001b[0mtrainData\u001b[0m\u001b[0;34m)\u001b[0m\u001b[0;34m,\u001b[0m \u001b[0mtf\u001b[0m\u001b[0;34m.\u001b[0m\u001b[0mconvert_to_tensor\u001b[0m\u001b[0;34m(\u001b[0m\u001b[0mtrainData\u001b[0m\u001b[0;34m)\u001b[0m\u001b[0;34m)\u001b[0m\u001b[0;34m,\u001b[0m \u001b[0;36m1\u001b[0m\u001b[0;34m)\u001b[0m\u001b[0;34m\u001b[0m\u001b[0m\n\u001b[0m\u001b[1;32m      2\u001b[0m \u001b[0mr\u001b[0m \u001b[0;34m=\u001b[0m \u001b[0mtf\u001b[0m\u001b[0;34m.\u001b[0m\u001b[0mexpand_dims\u001b[0m\u001b[0;34m(\u001b[0m\u001b[0mr\u001b[0m\u001b[0;34m,\u001b[0m\u001b[0;36m1\u001b[0m\u001b[0;34m)\u001b[0m\u001b[0;34m\u001b[0m\u001b[0m\n\u001b[1;32m      3\u001b[0m \u001b[0ma\u001b[0m \u001b[0;34m=\u001b[0m \u001b[0mtf\u001b[0m\u001b[0;34m.\u001b[0m\u001b[0mconvert_to_tensor\u001b[0m\u001b[0;34m(\u001b[0m\u001b[0mnp\u001b[0m\u001b[0;34m.\u001b[0m\u001b[0mtranspose\u001b[0m\u001b[0;34m(\u001b[0m\u001b[0mtrainTarget\u001b[0m\u001b[0;34m)\u001b[0m\u001b[0;34m,\u001b[0m\u001b[0mdtype\u001b[0m\u001b[0;34m=\u001b[0m\u001b[0mtf\u001b[0m\u001b[0;34m.\u001b[0m\u001b[0mfloat64\u001b[0m\u001b[0;34m)\u001b[0m\u001b[0;34m\u001b[0m\u001b[0m\n\u001b[1;32m      4\u001b[0m \u001b[0mb\u001b[0m \u001b[0;34m=\u001b[0m \u001b[0mtf\u001b[0m\u001b[0;34m.\u001b[0m\u001b[0mmatmul\u001b[0m\u001b[0;34m(\u001b[0m\u001b[0ma\u001b[0m\u001b[0;34m,\u001b[0m \u001b[0mr\u001b[0m\u001b[0;34m)\u001b[0m\u001b[0;34m\u001b[0m\u001b[0m\n\u001b[1;32m      5\u001b[0m \u001b[0msess\u001b[0m\u001b[0;34m.\u001b[0m\u001b[0mrun\u001b[0m\u001b[0;34m(\u001b[0m\u001b[0minit\u001b[0m\u001b[0;34m)\u001b[0m\u001b[0;34m\u001b[0m\u001b[0m\n",
      "\u001b[0;32m<ipython-input-436-3ed13cbf7afc>\u001b[0m in \u001b[0;36mget_respon_mat\u001b[0;34m(m, k)\u001b[0m\n\u001b[1;32m     14\u001b[0m     \u001b[0mindices\u001b[0m \u001b[0;34m=\u001b[0m \u001b[0mtf\u001b[0m\u001b[0;34m.\u001b[0m\u001b[0mconstant\u001b[0m\u001b[0;34m(\u001b[0m\u001b[0mindices\u001b[0m\u001b[0;34m)\u001b[0m\u001b[0;34m\u001b[0m\u001b[0m\n\u001b[1;32m     15\u001b[0m     \u001b[0mvalues\u001b[0m \u001b[0;34m=\u001b[0m \u001b[0mtf\u001b[0m\u001b[0;34m.\u001b[0m\u001b[0mconstant\u001b[0m\u001b[0;34m(\u001b[0m\u001b[0mvalues\u001b[0m\u001b[0;34m,\u001b[0m \u001b[0mdtype\u001b[0m\u001b[0;34m=\u001b[0m\u001b[0mtf\u001b[0m\u001b[0;34m.\u001b[0m\u001b[0mfloat64\u001b[0m\u001b[0;34m)\u001b[0m\u001b[0;34m\u001b[0m\u001b[0m\n\u001b[0;32m---> 16\u001b[0;31m     \u001b[0mres\u001b[0m \u001b[0;34m=\u001b[0m \u001b[0mtf\u001b[0m\u001b[0;34m.\u001b[0m\u001b[0msparse_to_dense\u001b[0m\u001b[0;34m(\u001b[0m\u001b[0msparse_indices\u001b[0m\u001b[0;34m=\u001b[0m\u001b[0mindices\u001b[0m\u001b[0;34m,\u001b[0m \u001b[0moutput_shape\u001b[0m\u001b[0;34m=\u001b[0m\u001b[0;34m[\u001b[0m\u001b[0mm\u001b[0m\u001b[0;34m.\u001b[0m\u001b[0mshape\u001b[0m\u001b[0;34m[\u001b[0m\u001b[0;36m0\u001b[0m\u001b[0;34m]\u001b[0m\u001b[0;34m]\u001b[0m\u001b[0;34m,\u001b[0m \u001b[0msparse_values\u001b[0m\u001b[0;34m=\u001b[0m\u001b[0mvalues\u001b[0m\u001b[0;34m)\u001b[0m\u001b[0;34m\u001b[0m\u001b[0m\n\u001b[0m\u001b[1;32m     17\u001b[0m     \u001b[0;32mreturn\u001b[0m \u001b[0mres\u001b[0m\u001b[0;34m\u001b[0m\u001b[0m\n",
      "\u001b[0;31mAttributeError\u001b[0m: 'Tensor' object has no attribute 'shape'"
     ]
    }
   ],
   "source": [
    "r = get_respon_mat(pairwise_dist(tf.convert_to_tensor(trainData), tf.convert_to_tensor(trainData)), 1)\n",
    "r = tf.expand_dims(r,1)\n",
    "a = tf.convert_to_tensor(np.transpose(trainTarget),dtype=tf.float64)\n",
    "b = tf.matmul(a, r)\n",
    "sess.run(init)\n",
    "sess.run(b)"
   ]
  },
  {
   "cell_type": "code",
   "execution_count": 526,
   "metadata": {
    "collapsed": false
   },
   "outputs": [
    {
     "data": {
      "text/plain": [
       "array([[0, 0, 0, 0, 0],\n",
       "       [0, 0, 1, 0, 0],\n",
       "       [0, 0, 0, 1, 0],\n",
       "       [0, 0, 0, 0, 0],\n",
       "       [0, 0, 0, 0, 0]], dtype=int32)"
      ]
     },
     "execution_count": 526,
     "metadata": {},
     "output_type": "execute_result"
    }
   ],
   "source": [
    "a = tf.sparse_to_dense(sparse_indices=[[1,2],[2,3]], output_shape=[5,5], sparse_values=1)\n",
    "sess.run(init)\n",
    "sess.run(a)"
   ]
  },
  {
   "cell_type": "code",
   "execution_count": 521,
   "metadata": {
    "collapsed": false
   },
   "outputs": [
    {
     "data": {
      "text/plain": [
       "array([ 1.,  0.,  0.,  0.,  0.,  0.,  0.,  0.,  0.,  0.,  0.,  0.,  0.,\n",
       "        0.,  0.,  0.,  0.,  0.,  0.,  0.,  0.,  0.,  0.,  0.,  0.,  0.,\n",
       "        0.,  0.,  0.,  0.,  0.,  0.,  0.,  0.,  0.,  0.,  0.,  0.,  0.,\n",
       "        0.,  0.,  0.,  0.,  0.,  0.,  0.,  0.,  0.,  0.,  0.,  0.,  0.,\n",
       "        0.,  0.,  0.,  0.,  0.,  0.,  0.,  0.,  0.,  0.,  0.,  0.,  0.,\n",
       "        0.,  0.,  0.,  0.,  0.,  0.,  0.,  0.,  0.,  0.,  0.,  0.,  0.,\n",
       "        0.,  0.])"
      ]
     },
     "execution_count": 521,
     "metadata": {},
     "output_type": "execute_result"
    }
   ],
   "source": [
    "trainDataT = tf.convert_to_tensor(trainData)\n",
    "r = get_respon_mat(pairwise_dist(trainDataT, trainDataT).eval(), 1)\n",
    "sess.run(init)\n",
    "sess.run(r)"
   ]
  },
  {
   "cell_type": "code",
   "execution_count": 520,
   "metadata": {
    "collapsed": false
   },
   "outputs": [
    {
     "data": {
      "text/plain": [
       "array([[79, 46,  0],\n",
       "       [17, 26,  1],\n",
       "       [50, 71,  2],\n",
       "       [76, 52,  3],\n",
       "       [33, 18,  4],\n",
       "       [22, 62,  5],\n",
       "       [37, 14,  6],\n",
       "       [36, 21,  7],\n",
       "       [16, 79,  8],\n",
       "       [35, 10,  9],\n",
       "       [ 9, 35, 10],\n",
       "       [41, 38, 11],\n",
       "       [ 6, 37, 12],\n",
       "       [78, 26, 13],\n",
       "       [ 6, 57, 14],\n",
       "       [45, 19, 15],\n",
       "       [61,  8, 16],\n",
       "       [ 1, 22, 17],\n",
       "       [34, 18,  4],\n",
       "       [53, 15, 19],\n",
       "       [13, 78, 20],\n",
       "       [36, 21,  7],\n",
       "       [62, 17, 22],\n",
       "       [54, 32, 23],\n",
       "       [61, 59, 24],\n",
       "       [29, 67, 25],\n",
       "       [13, 26,  1],\n",
       "       [76, 55, 27],\n",
       "       [51, 39, 28],\n",
       "       [25, 33, 29],\n",
       "       [35, 77, 30],\n",
       "       [66, 47, 31],\n",
       "       [51, 32, 23],\n",
       "       [ 4, 29, 33],\n",
       "       [ 4, 18, 34],\n",
       "       [30, 35, 10],\n",
       "       [45, 36,  7],\n",
       "       [ 6, 12, 37],\n",
       "       [74, 11, 38],\n",
       "       [75, 39, 28],\n",
       "       [52, 44, 40],\n",
       "       [72, 41, 11],\n",
       "       [49, 48, 42],\n",
       "       [71, 63, 43],\n",
       "       [34, 44, 40],\n",
       "       [36, 45, 15],\n",
       "       [ 0, 68, 46],\n",
       "       [55, 66, 47],\n",
       "       [49, 42, 48],\n",
       "       [48, 60, 49],\n",
       "       [69, 50,  2],\n",
       "       [32, 51, 28],\n",
       "       [40, 52,  3],\n",
       "       [56, 53, 19],\n",
       "       [67, 54, 23],\n",
       "       [66, 55, 27],\n",
       "       [19, 53, 56],\n",
       "       [73, 14, 57],\n",
       "       [ 9, 73, 58],\n",
       "       [77, 59, 24],\n",
       "       [48, 60, 49],\n",
       "       [24, 61, 16],\n",
       "       [22, 62,  5],\n",
       "       [71, 43, 63],\n",
       "       [65, 72, 64],\n",
       "       [56, 64, 65],\n",
       "       [55, 66, 47],\n",
       "       [54, 67, 25],\n",
       "       [70, 46, 68],\n",
       "       [21, 50, 69],\n",
       "       [74, 68, 70],\n",
       "       [63, 71,  2],\n",
       "       [64, 72, 41],\n",
       "       [57, 73, 58],\n",
       "       [70, 74, 38],\n",
       "       [43, 75, 39],\n",
       "       [ 3, 27, 76],\n",
       "       [59, 77, 30],\n",
       "       [26, 78, 13],\n",
       "       [ 0,  8, 79]], dtype=int32)"
      ]
     },
     "execution_count": 520,
     "metadata": {},
     "output_type": "execute_result"
    }
   ],
   "source": [
    "r = pairwise_dist(trainDataT, trainDataT)\n",
    "a = get_top_k_indices(r.eval(), 3)\n",
    "sess.run(init)\n",
    "sess.run(a)"
   ]
  }
 ],
 "metadata": {
  "kernelspec": {
   "display_name": "Python 3",
   "language": "python",
   "name": "python3"
  },
  "language_info": {
   "codemirror_mode": {
    "name": "ipython",
    "version": 3
   },
   "file_extension": ".py",
   "mimetype": "text/x-python",
   "name": "python",
   "nbconvert_exporter": "python",
   "pygments_lexer": "ipython3",
   "version": "3.5.2+"
  }
 },
 "nbformat": 4,
 "nbformat_minor": 1
}
