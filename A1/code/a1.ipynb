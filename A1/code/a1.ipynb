{
 "cells": [
  {
   "cell_type": "code",
   "execution_count": 2,
   "metadata": {
    "collapsed": false
   },
   "outputs": [],
   "source": [
    "import tensorflow as tf\n",
    "import matplotlib.pyplot as plt\n",
    "import numpy as np"
   ]
  },
  {
   "cell_type": "code",
   "execution_count": 19,
   "metadata": {
    "collapsed": false
   },
   "outputs": [],
   "source": [
    "np.random.seed(521)\n",
    "Data = np.linspace(1.0 , 10.0 , num =100) [:, np. newaxis]\n",
    "Target = np.sin( Data ) + 0.1 * np.power( Data , 2) \\\n",
    "+ 0.5 * np.random.randn(100 , 1)\n",
    "randIdx = np.arange(100)\n",
    "np.random.shuffle(randIdx)\n",
    "trainData, trainTarget = Data[randIdx[:80]], Target[randIdx[:80]]\n",
    "validData, validTarget = Data[randIdx[80:90]], Target[randIdx[80:90]]\n",
    "testData, testTarget = Data[randIdx[90:100]], Target[randIdx[90:100]]"
   ]
  },
  {
   "cell_type": "code",
   "execution_count": 4,
   "metadata": {
    "collapsed": false
   },
   "outputs": [
    {
     "data": {
      "image/png": "[encoded data removed]",
      "text/plain": [
       "<matplotlib.figure.Figure at 0x1f6305f6a90>"
      ]
     },
     "metadata": {},
     "output_type": "display_data"
    }
   ],
   "source": [
    "#plot of trainData\n",
    "plt.plot(trainData, trainTarget, 'bo')\n",
    "plt.axis([0,11, -2, 12])\n",
    "plt.title(\"raw train data set\")\n",
    "plt.show()"
   ]
  },
  {
   "cell_type": "code",
   "execution_count": 5,
   "metadata": {
    "collapsed": true
   },
   "outputs": [],
   "source": [
    "def pairwise_dist(x, z):\n",
    "    z = tf.transpose(z)\n",
    "    return tf.squared_difference(x, z)"
   ]
  },
  {
   "cell_type": "code",
   "execution_count": 6,
   "metadata": {
    "collapsed": false
   },
   "outputs": [
    {
     "name": "stdout",
     "output_type": "stream",
     "text": [
      "[[0 1 4]\n",
      " [1 0 1]\n",
      " [4 1 0]\n",
      " [9 4 1]]\n"
     ]
    }
   ],
   "source": [
    "#testing pairwise_dist function\n",
    "x = tf.constant([[1],[2],[3],[4]])\n",
    "z = tf.constant([[1],[2],[3]])\n",
    "init = tf.global_variables_initializer()\n",
    "sess = tf.InteractiveSession()\n",
    "sess.run(init)\n",
    "print(sess.run(pairwise_dist(x,z)))"
   ]
  },
  {
   "cell_type": "code",
   "execution_count": 744,
   "metadata": {
    "collapsed": false
   },
   "outputs": [],
   "source": [
    "def get_respon_mat(m, k):\n",
    "    m = tf.transpose(m)\n",
    "    # get sorted index\n",
    "    values, indices = tf.nn.top_k(-m, k, sorted=True)\n",
    "    #indices, dummy = tf.nn.top_k(-indices, k, sorted=True)\n",
    "    #indices = -indices\n",
    "    # build up [[1,2], [1,3]] index form\n",
    "    indices_pair = tf.tile(tf.reshape(tf.range(0, tf.shape(m)[1]), [-1,1]), [1,k])\n",
    "    concated = tf.concat(2, [tf.reshape(indices_pair, [-1,k,1]), tf.reshape(indices, [-1,k,1])])\n",
    "    concated = tf.reshape(concated, [-1,2])\n",
    "    # return dense matrix\n",
    "    value = 1 / k\n",
    "    #res = tf.sparse_to_dense(sparse_indices=concated, output_shape=[tf.shape(m)[0],tf.shape(m)[1]], \\\n",
    "    #                             sparse_values=value, validate_indices=False)\n",
    "    return tf.shape(m)"
   ]
  },
  {
   "cell_type": "code",
   "execution_count": 745,
   "metadata": {
    "collapsed": false
   },
   "outputs": [
    {
     "data": {
      "text/plain": [
       "array([  80, 1000], dtype=int32)"
      ]
     },
     "execution_count": 745,
     "metadata": {},
     "output_type": "execute_result"
    }
   ],
   "source": [
    "# testing for get_respon_mat function\n",
    "train = tf.placeholder(tf.float32)\n",
    "X = tf.placeholder(tf.float32)\n",
    "target = tf.placeholder(tf.float32)\n",
    "test_input = np.linspace(0.0, 11.0, num = 1000)\n",
    "test_input = np.expand_dims(test_input, axis=0)\n",
    "test_input = np.transpose(test_input)\n",
    "r = get_respon_mat(pairwise_dist(X, train), 3)\n",
    "#y_hat = tf.matmul(tf.transpose(target), r)\n",
    "sess.run(init)\n",
    "sess.run(r, feed_dict={X: test_input, train: trainData, target: trainTarget})"
   ]
  },
  {
   "cell_type": "code",
   "execution_count": 726,
   "metadata": {
    "collapsed": false
   },
   "outputs": [
    {
     "data": {
      "image/png": "[encoded data removed]",
      "text/plain": [
       "<matplotlib.figure.Figure at 0x7ff7265bb5c0>"
      ]
     },
     "metadata": {},
     "output_type": "display_data"
    }
   ],
   "source": [
    "plt.plot(trainData, trainTarget, 'bo', trainData, np.transpose(predict), 'ro')\n",
    "plt.axis([0,11, -2, 12])\n",
    "plt.title(\"raw train data set\")\n",
    "plt.show()"
   ]
  },
  {
   "cell_type": "code",
   "execution_count": null,
   "metadata": {
    "collapsed": false
   },
   "outputs": [],
   "source": [
    "# train model\n",
    "kList = [1,3,5,50]\n",
    "for k in kList:\n",
    "    r = get_respon_mat(trainData, k)\n",
    "    "
   ]
  },
  {
   "cell_type": "code",
   "execution_count": 9,
   "metadata": {
    "collapsed": false
   },
   "outputs": [
    {
     "ename": "UnboundLocalError",
     "evalue": "local variable 'sorted_indices' referenced before assignment",
     "output_type": "error",
     "traceback": [
      "\u001b[0;31m---------------------------------------------------------------------------\u001b[0m",
      "\u001b[0;31mUnboundLocalError\u001b[0m                         Traceback (most recent call last)",
      "\u001b[0;32m<ipython-input-9-85ff8f216724>\u001b[0m in \u001b[0;36m<module>\u001b[0;34m()\u001b[0m\n\u001b[0;32m----> 1\u001b[0;31m \u001b[0mr\u001b[0m \u001b[1;33m=\u001b[0m \u001b[0mget_respon_mat\u001b[0m\u001b[1;33m(\u001b[0m\u001b[0mpairwise_dist\u001b[0m\u001b[1;33m(\u001b[0m\u001b[0mtf\u001b[0m\u001b[1;33m.\u001b[0m\u001b[0mconvert_to_tensor\u001b[0m\u001b[1;33m(\u001b[0m\u001b[0mtrainData\u001b[0m\u001b[1;33m)\u001b[0m\u001b[1;33m,\u001b[0m \u001b[0mtf\u001b[0m\u001b[1;33m.\u001b[0m\u001b[0mconvert_to_tensor\u001b[0m\u001b[1;33m(\u001b[0m\u001b[0mtrainData\u001b[0m\u001b[1;33m)\u001b[0m\u001b[1;33m)\u001b[0m\u001b[1;33m,\u001b[0m \u001b[1;36m1\u001b[0m\u001b[1;33m)\u001b[0m\u001b[1;33m\u001b[0m\u001b[0m\n\u001b[0m\u001b[1;32m      2\u001b[0m \u001b[0mr\u001b[0m \u001b[1;33m=\u001b[0m \u001b[0mtf\u001b[0m\u001b[1;33m.\u001b[0m\u001b[0mexpand_dims\u001b[0m\u001b[1;33m(\u001b[0m\u001b[0mr\u001b[0m\u001b[1;33m,\u001b[0m\u001b[1;36m1\u001b[0m\u001b[1;33m)\u001b[0m\u001b[1;33m\u001b[0m\u001b[0m\n\u001b[1;32m      3\u001b[0m \u001b[0ma\u001b[0m \u001b[1;33m=\u001b[0m \u001b[0mtf\u001b[0m\u001b[1;33m.\u001b[0m\u001b[0mconvert_to_tensor\u001b[0m\u001b[1;33m(\u001b[0m\u001b[0mnp\u001b[0m\u001b[1;33m.\u001b[0m\u001b[0mtranspose\u001b[0m\u001b[1;33m(\u001b[0m\u001b[0mtrainTarget\u001b[0m\u001b[1;33m)\u001b[0m\u001b[1;33m,\u001b[0m\u001b[0mdtype\u001b[0m\u001b[1;33m=\u001b[0m\u001b[0mtf\u001b[0m\u001b[1;33m.\u001b[0m\u001b[0mfloat64\u001b[0m\u001b[1;33m)\u001b[0m\u001b[1;33m\u001b[0m\u001b[0m\n\u001b[1;32m      4\u001b[0m \u001b[0mb\u001b[0m \u001b[1;33m=\u001b[0m \u001b[0mtf\u001b[0m\u001b[1;33m.\u001b[0m\u001b[0mmatmul\u001b[0m\u001b[1;33m(\u001b[0m\u001b[0ma\u001b[0m\u001b[1;33m,\u001b[0m \u001b[0mr\u001b[0m\u001b[1;33m)\u001b[0m\u001b[1;33m\u001b[0m\u001b[0m\n\u001b[1;32m      5\u001b[0m \u001b[0msess\u001b[0m\u001b[1;33m.\u001b[0m\u001b[0mrun\u001b[0m\u001b[1;33m(\u001b[0m\u001b[0minit\u001b[0m\u001b[1;33m)\u001b[0m\u001b[1;33m\u001b[0m\u001b[0m\n",
      "\u001b[0;32m<ipython-input-7-84a351220ff1>\u001b[0m in \u001b[0;36mget_respon_mat\u001b[0;34m(m, k)\u001b[0m\n\u001b[1;32m      2\u001b[0m     \u001b[0mm\u001b[0m \u001b[1;33m=\u001b[0m \u001b[0mtf\u001b[0m\u001b[1;33m.\u001b[0m\u001b[0mtranspose\u001b[0m\u001b[1;33m(\u001b[0m\u001b[0mm\u001b[0m\u001b[1;33m)\u001b[0m\u001b[1;33m\u001b[0m\u001b[0m\n\u001b[1;32m      3\u001b[0m     \u001b[0mvalues\u001b[0m\u001b[1;33m,\u001b[0m \u001b[0mindices\u001b[0m \u001b[1;33m=\u001b[0m \u001b[0mtf\u001b[0m\u001b[1;33m.\u001b[0m\u001b[0mnn\u001b[0m\u001b[1;33m.\u001b[0m\u001b[0mtop_k\u001b[0m\u001b[1;33m(\u001b[0m\u001b[1;33m-\u001b[0m\u001b[0mm\u001b[0m\u001b[1;33m,\u001b[0m \u001b[0mk\u001b[0m\u001b[1;33m,\u001b[0m \u001b[0msorted\u001b[0m\u001b[1;33m=\u001b[0m\u001b[1;32mTrue\u001b[0m\u001b[1;33m)\u001b[0m\u001b[1;33m\u001b[0m\u001b[0m\n\u001b[0;32m----> 4\u001b[0;31m     \u001b[0mvalues\u001b[0m\u001b[1;33m,\u001b[0m \u001b[0msorted_indices\u001b[0m \u001b[1;33m=\u001b[0m \u001b[0mtf\u001b[0m\u001b[1;33m.\u001b[0m\u001b[0mnn\u001b[0m\u001b[1;33m.\u001b[0m\u001b[0mtop_k\u001b[0m\u001b[1;33m(\u001b[0m\u001b[1;33m-\u001b[0m\u001b[0msorted_indices\u001b[0m\u001b[1;33m,\u001b[0m \u001b[0mk\u001b[0m\u001b[1;33m,\u001b[0m \u001b[0msorted\u001b[0m\u001b[1;33m=\u001b[0m\u001b[1;32mTrue\u001b[0m\u001b[1;33m)\u001b[0m\u001b[1;33m\u001b[0m\u001b[0m\n\u001b[0m\u001b[1;32m      5\u001b[0m     \u001b[0mvalue\u001b[0m \u001b[1;33m=\u001b[0m \u001b[1;36m1\u001b[0m \u001b[1;33m/\u001b[0m \u001b[0mk\u001b[0m\u001b[1;33m\u001b[0m\u001b[0m\n\u001b[1;32m      6\u001b[0m     \u001b[0mres\u001b[0m \u001b[1;33m=\u001b[0m \u001b[0mtf\u001b[0m\u001b[1;33m.\u001b[0m\u001b[0msparse_to_dense\u001b[0m\u001b[1;33m(\u001b[0m\u001b[0msparse_indices\u001b[0m\u001b[1;33m=\u001b[0m\u001b[0mindices\u001b[0m\u001b[1;33m,\u001b[0m \u001b[0moutput_shape\u001b[0m\u001b[1;33m=\u001b[0m\u001b[1;33m[\u001b[0m\u001b[0mm\u001b[0m\u001b[1;33m.\u001b[0m\u001b[0mshape\u001b[0m\u001b[1;33m[\u001b[0m\u001b[1;36m0\u001b[0m\u001b[1;33m]\u001b[0m\u001b[1;33m]\u001b[0m\u001b[1;33m,\u001b[0m \u001b[0msparse_values\u001b[0m\u001b[1;33m=\u001b[0m\u001b[0mvalue\u001b[0m\u001b[1;33m)\u001b[0m\u001b[1;33m\u001b[0m\u001b[0m\n",
      "\u001b[0;31mUnboundLocalError\u001b[0m: local variable 'sorted_indices' referenced before assignment"
     ]
    }
   ],
   "source": [
    "r = get_respon_mat(pairwise_dist(tf.convert_to_tensor(trainData), tf.convert_to_tensor(trainData)), 1)\n",
    "r = tf.expand_dims(r,1)\n",
    "a = tf.convert_to_tensor(np.transpose(trainTarget),dtype=tf.float64)\n",
    "b = tf.matmul(a, r)\n",
    "sess.run(init)\n",
    "sess.run(b)"
   ]
  },
  {
   "cell_type": "code",
   "execution_count": 116,
   "metadata": {
    "collapsed": false
   },
   "outputs": [
    {
     "data": {
      "text/plain": [
       "SparseTensorValue(indices=array([[0, 1]], dtype=int64), values=array([1]), shape=array([ 1, 10], dtype=int64))"
      ]
     },
     "execution_count": 116,
     "metadata": {},
     "output_type": "execute_result"
    }
   ],
   "source": [
    "m = tf.convert_to_tensor(np.transpose(trainData),dtype=tf.float64)\n",
    "values, indices = tf.nn.top_k(-m, 2, sorted=True)\n",
    "values, sorted_indices = tf.nn.top_k(-indices, 2, sorted=True)\n",
    "a = tf.sparse_to_dense(sparse_indices=[1,3,2], output_shape=[10], sparse_values=1)\n",
    "sess.run(init)\n",
    "sess.run(a)"
   ]
  },
  {
   "cell_type": "code",
   "execution_count": null,
   "metadata": {
    "collapsed": false
   },
   "outputs": [],
   "source": [
    "trainDataT = tf.convert_to_tensor(trainData)\n",
    "r = get_respon_mat(pairwise_dist(trainDataT, trainDataT).eval(), 1)\n",
    "sess.run(init)\n",
    "sess.run(r)"
   ]
  },
  {
   "cell_type": "code",
   "execution_count": 44,
   "metadata": {
    "collapsed": false
   },
   "outputs": [
    {
     "ename": "NameError",
     "evalue": "name 'trainDataT' is not defined",
     "output_type": "error",
     "traceback": [
      "\u001b[0;31m---------------------------------------------------------------------------\u001b[0m",
      "\u001b[0;31mNameError\u001b[0m                                 Traceback (most recent call last)",
      "\u001b[0;32m<ipython-input-44-86d9169e10e8>\u001b[0m in \u001b[0;36m<module>\u001b[0;34m()\u001b[0m\n\u001b[0;32m----> 1\u001b[0;31m \u001b[0mr\u001b[0m \u001b[1;33m=\u001b[0m \u001b[0mpairwise_dist\u001b[0m\u001b[1;33m(\u001b[0m\u001b[0mtrainDataT\u001b[0m\u001b[1;33m,\u001b[0m \u001b[0mtrainDataT\u001b[0m\u001b[1;33m)\u001b[0m\u001b[1;33m\u001b[0m\u001b[0m\n\u001b[0m\u001b[1;32m      2\u001b[0m \u001b[0ma\u001b[0m \u001b[1;33m=\u001b[0m \u001b[0mget_top_k_indices\u001b[0m\u001b[1;33m(\u001b[0m\u001b[0mr\u001b[0m\u001b[1;33m.\u001b[0m\u001b[0meval\u001b[0m\u001b[1;33m(\u001b[0m\u001b[1;33m)\u001b[0m\u001b[1;33m,\u001b[0m \u001b[1;36m3\u001b[0m\u001b[1;33m)\u001b[0m\u001b[1;33m\u001b[0m\u001b[0m\n\u001b[1;32m      3\u001b[0m \u001b[0msess\u001b[0m\u001b[1;33m.\u001b[0m\u001b[0mrun\u001b[0m\u001b[1;33m(\u001b[0m\u001b[0minit\u001b[0m\u001b[1;33m)\u001b[0m\u001b[1;33m\u001b[0m\u001b[0m\n\u001b[1;32m      4\u001b[0m \u001b[0msess\u001b[0m\u001b[1;33m.\u001b[0m\u001b[0mrun\u001b[0m\u001b[1;33m(\u001b[0m\u001b[0ma\u001b[0m\u001b[1;33m)\u001b[0m\u001b[1;33m\u001b[0m\u001b[0m\n",
      "\u001b[0;31mNameError\u001b[0m: name 'trainDataT' is not defined"
     ]
    }
   ],
   "source": [
    "r = pairwise_dist(trainDataT, trainDataT)\n",
    "a = get_top_k_indices(r.eval(), 3)\n",
    "sess.run(init)\n",
    "sess.run(a)"
   ]
  },
  {
   "cell_type": "code",
   "execution_count": 655,
   "metadata": {
    "collapsed": false
   },
   "outputs": [
    {
     "data": {
      "text/plain": [
       "array([[0, 0, 0, 0, 0, 0, 0, 0, 0, 0],\n",
       "       [0, 1, 1, 1, 0, 0, 0, 0, 0, 0],\n",
       "       [0, 0, 0, 0, 1, 1, 1, 0, 0, 0],\n",
       "       [0, 0, 0, 0, 0, 0, 0, 0, 0, 0],\n",
       "       [0, 0, 0, 0, 0, 0, 0, 0, 0, 0],\n",
       "       [0, 0, 0, 0, 0, 0, 0, 0, 0, 0],\n",
       "       [0, 0, 0, 0, 0, 0, 0, 0, 0, 0],\n",
       "       [0, 0, 0, 0, 0, 0, 0, 0, 0, 0],\n",
       "       [0, 0, 0, 0, 0, 0, 0, 0, 0, 0],\n",
       "       [0, 0, 0, 0, 0, 0, 0, 0, 0, 0]], dtype=int32)"
      ]
     },
     "execution_count": 655,
     "metadata": {},
     "output_type": "execute_result"
    }
   ],
   "source": [
    "t = tf.convert_to_tensor([[1,2,3],[4,5,6]])\n",
    "b = tf.tile(tf.reshape(tf.range(1,3), [-1,1]), [1,3])\n",
    "t1 = tf.reshape(t, [-1,3,1])\n",
    "b1 = tf.reshape(b, [-1,3,1])\n",
    "c = tf.concat(2,[b1,t1])\n",
    "c = tf.reshape(c, [-1,2])\n",
    "d = tf.sparse_to_dense(sparse_indices=c, output_shape=[10,10], sparse_values=1)\n",
    "sess.run(init)\n",
    "sess.run(d)"
   ]
  },
  {
   "cell_type": "code",
   "execution_count": 700,
   "metadata": {
    "collapsed": false
   },
   "outputs": [
    {
     "name": "stdout",
     "output_type": "stream",
     "text": [
      "[[  8.18181818]\n",
      " [  1.54545455]\n",
      " [  5.90909091]\n",
      " [  3.72727273]\n",
      " [  4.36363636]\n",
      " [  1.        ]\n",
      " [  9.81818182]\n",
      " [  6.54545455]\n",
      " [  8.36363636]\n",
      " [  9.27272727]\n",
      " [  9.18181818]\n",
      " [  7.63636364]\n",
      " [ 10.        ]\n",
      " [  1.72727273]\n",
      " [  9.72727273]\n",
      " [  6.81818182]\n",
      " [  8.45454545]\n",
      " [  1.36363636]\n",
      " [  4.27272727]\n",
      " [  6.90909091]\n",
      " [  2.09090909]\n",
      " [  6.45454545]\n",
      " [  1.27272727]\n",
      " [  4.90909091]\n",
      " [  8.72727273]\n",
      " [  4.63636364]\n",
      " [  1.63636364]\n",
      " [  3.54545455]\n",
      " [  5.27272727]\n",
      " [  4.54545455]\n",
      " [  9.        ]\n",
      " [  3.09090909]\n",
      " [  5.        ]\n",
      " [  4.45454545]\n",
      " [  4.18181818]\n",
      " [  9.09090909]\n",
      " [  6.63636364]\n",
      " [  9.90909091]\n",
      " [  7.72727273]\n",
      " [  5.36363636]\n",
      " [  3.90909091]\n",
      " [  7.54545455]\n",
      " [  2.45454545]\n",
      " [  5.63636364]\n",
      " [  4.        ]\n",
      " [  6.72727273]\n",
      " [  8.09090909]\n",
      " [  3.27272727]\n",
      " [  2.54545455]\n",
      " [  2.63636364]\n",
      " [  6.09090909]\n",
      " [  5.18181818]\n",
      " [  3.81818182]\n",
      " [  7.        ]\n",
      " [  4.81818182]\n",
      " [  3.45454545]\n",
      " [  7.09090909]\n",
      " [  9.63636364]\n",
      " [  9.45454545]\n",
      " [  8.81818182]\n",
      " [  2.72727273]\n",
      " [  8.54545455]\n",
      " [  1.09090909]\n",
      " [  5.72727273]\n",
      " [  7.36363636]\n",
      " [  7.27272727]\n",
      " [  3.36363636]\n",
      " [  4.72727273]\n",
      " [  8.        ]\n",
      " [  6.27272727]\n",
      " [  7.90909091]\n",
      " [  5.81818182]\n",
      " [  7.45454545]\n",
      " [  9.54545455]\n",
      " [  7.81818182]\n",
      " [  5.45454545]\n",
      " [  3.63636364]\n",
      " [  8.90909091]\n",
      " [  1.81818182]\n",
      " [  8.27272727]]\n"
     ]
    }
   ],
   "source": [
    "print(trainData)"
   ]
  }
 ],
 "metadata": {
  "anaconda-cloud": {},
  "kernelspec": {
   "display_name": "Python 3",
   "language": "python",
   "name": "python3"
  },
  "language_info": {
   "codemirror_mode": {
    "name": "ipython",
    "version": 3
   },
   "file_extension": ".py",
   "mimetype": "text/x-python",
   "name": "python",
   "nbconvert_exporter": "python",
   "pygments_lexer": "ipython3",
   "version": "3.5.2+"
  }
 },
 "nbformat": 4,
 "nbformat_minor": 1
}
